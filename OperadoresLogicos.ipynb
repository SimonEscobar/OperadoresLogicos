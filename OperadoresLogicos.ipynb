{
  "nbformat": 4,
  "nbformat_minor": 0,
  "metadata": {
    "colab": {
      "provenance": [],
      "authorship_tag": "ABX9TyNdjhRtZVGAx0gqc+qFJzU+",
      "include_colab_link": true
    },
    "kernelspec": {
      "name": "python3",
      "display_name": "Python 3"
    },
    "language_info": {
      "name": "python"
    }
  },
  "cells": [
    {
      "cell_type": "markdown",
      "metadata": {
        "id": "view-in-github",
        "colab_type": "text"
      },
      "source": [
        "<a href=\"https://colab.research.google.com/github/SimonEscobar/OperadoresLogicos/blob/main/OperadoresLogicos.ipynb\" target=\"_parent\"><img src=\"https://colab.research.google.com/assets/colab-badge.svg\" alt=\"Open In Colab\"/></a>"
      ]
    },
    {
      "cell_type": "code",
      "execution_count": null,
      "metadata": {
        "id": "_O9DH2wHyIr8"
      },
      "outputs": [],
      "source": [
        "edad = 20  # Edad de la persona\n",
        "permiso = True  # Si tiene permiso para salir de casa\n",
        "\n",
        "# Usamos el operador 'and' para verificar que ambas condiciones sean verdaderas\n",
        "if edad >= 18 and permiso:\n",
        "    print(\"Puedes salir de casa.\")\n",
        "else:\n",
        "    print(\"No puedes salir de casa.\")"
      ]
    }
  ]
}